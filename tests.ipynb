{
 "cells": [
  {
   "cell_type": "code",
   "id": "initial_id",
   "metadata": {
    "collapsed": true,
    "ExecuteTime": {
     "end_time": "2025-07-29T18:16:20.998793Z",
     "start_time": "2025-07-29T18:16:20.963024Z"
    }
   },
   "source": [
    "import os\n",
    "from dotenv import load_dotenv\n",
    "\n",
    "load_dotenv()\n",
    "tapo_username = os.getenv(\"TAPO_USERNAME\")\n",
    "tapo_password = os.getenv(\"TAPO_PASSWORD\")\n",
    "pushover_user_group = os.getenv(\"PUSHOVER_USER_GROUP_WOERIS\")"
   ],
   "outputs": [],
   "execution_count": 1
  },
  {
   "cell_type": "code",
   "id": "9fd3c9e7396a7f1a",
   "metadata": {
    "ExecuteTime": {
     "end_time": "2025-07-29T18:16:21.765361Z",
     "start_time": "2025-07-29T18:16:21.761869Z"
    }
   },
   "source": [
    "pushover_user_group"
   ],
   "outputs": [
    {
     "data": {
      "text/plain": [
       "'gh9maxhrd44jxy8qx7ka1jc2cfiykg'"
      ]
     },
     "execution_count": 2,
     "metadata": {},
     "output_type": "execute_result"
    }
   ],
   "execution_count": 2
  },
  {
   "cell_type": "code",
   "id": "45ca5889434c19a8",
   "metadata": {
    "ExecuteTime": {
     "end_time": "2025-07-29T18:16:23.001507Z",
     "start_time": "2025-07-29T18:16:22.999442Z"
    }
   },
   "source": [
    "\n",
    "from datetime import datetime\n",
    "print(datetime.now())"
   ],
   "outputs": [
    {
     "name": "stdout",
     "output_type": "stream",
     "text": [
      "2025-07-29 20:16:23.000153\n"
     ]
    }
   ],
   "execution_count": 3
  },
  {
   "cell_type": "code",
   "id": "12c48928faa37428",
   "metadata": {
    "ExecuteTime": {
     "end_time": "2025-07-29T18:16:30.503267Z",
     "start_time": "2025-07-29T18:16:26.555504Z"
    }
   },
   "source": [
    "from utils import send_pushover_notification_new\n",
    "send_pushover_notification_new(pushover_user_group, \"Test with new send method\")"
   ],
   "outputs": [],
   "execution_count": 4
  },
  {
   "cell_type": "code",
   "execution_count": 4,
   "id": "92c1b4dbca0f4c7a",
   "metadata": {
    "ExecuteTime": {
     "end_time": "2024-11-08T09:07:52.803672Z",
     "start_time": "2024-11-08T09:07:51.593032Z"
    }
   },
   "outputs": [
    {
     "data": {
      "text/plain": [
       "<http.client.HTTPResponse at 0x103932a10>"
      ]
     },
     "execution_count": 4,
     "metadata": {},
     "output_type": "execute_result"
    }
   ],
   "source": [
    "import http.client, urllib\n",
    "conn = http.client.HTTPSConnection(\"api.pushover.net:443\")\n",
    "\n",
    "pushover_api_token = os.getenv(\"PUSHOVER_TAPO_API_TOKEN\")\n",
    "conn.request(\"POST\", \"/1/messages.json\",\n",
    "  urllib.parse.urlencode({\n",
    "    \"token\": pushover_api_token,\n",
    "    \"user\": pushover_user_group,\n",
    "    \"message\": \"hello world\",\n",
    "  }), { \"Content-type\": \"application/x-www-form-urlencoded\" })\n",
    "conn.getresponse()"
   ]
  },
  {
   "cell_type": "code",
   "execution_count": 8,
   "id": "c24c12f99da41ebd",
   "metadata": {},
   "outputs": [],
   "source": [
    "import influxdb_client, os, time\n",
    "from influxdb_client import InfluxDBClient, Point, WritePrecision\n",
    "from influxdb_client.client.write_api import SYNCHRONOUS\n",
    "\n",
    "token = os.environ.get(\"INFLUXDB_TOKEN\")\n",
    "org = \"None\"\n",
    "url = \"http://192.168.178.114:8088\"\n",
    "\n",
    "write_client = influxdb_client.InfluxDBClient(url=url, token=token, org=org)"
   ]
  },
  {
   "cell_type": "code",
   "execution_count": 9,
   "id": "c5320dbd",
   "metadata": {},
   "outputs": [],
   "source": [
    "bucket=\"test_bucket\"\n",
    "\n",
    "write_api = write_client.write_api(write_options=SYNCHRONOUS)\n",
    "   \n",
    "for value in range(5):\n",
    "    point = (\n",
    "        Point(\"measurement1\")\n",
    "        .tag(\"tagname1\", \"tagvalue1\")\n",
    "        .field(\"field1\", value)\n",
    "    )\n",
    "    write_api.write(bucket=bucket, org=\"None\", record=point)\n",
    "    time.sleep(1) # separate points by 1 second"
   ]
  },
  {
   "cell_type": "code",
   "execution_count": 11,
   "id": "923ed4da",
   "metadata": {},
   "outputs": [
    {
     "name": "stdout",
     "output_type": "stream",
     "text": [
      "FluxRecord() table: 0, {'result': '_result', 'table': 0, '_start': datetime.datetime(2024, 12, 13, 15, 18, 25, 376630, tzinfo=datetime.timezone.utc), '_stop': datetime.datetime(2024, 12, 13, 15, 28, 25, 376630, tzinfo=datetime.timezone.utc), '_time': datetime.datetime(2024, 12, 13, 15, 26, 20, 935153, tzinfo=datetime.timezone.utc), '_value': 0, '_field': 'field1', '_measurement': 'measurement1', 'tagname1': 'tagvalue1'}\n",
      "FluxRecord() table: 0, {'result': '_result', 'table': 0, '_start': datetime.datetime(2024, 12, 13, 15, 18, 25, 376630, tzinfo=datetime.timezone.utc), '_stop': datetime.datetime(2024, 12, 13, 15, 28, 25, 376630, tzinfo=datetime.timezone.utc), '_time': datetime.datetime(2024, 12, 13, 15, 26, 23, 421039, tzinfo=datetime.timezone.utc), '_value': 1, '_field': 'field1', '_measurement': 'measurement1', 'tagname1': 'tagvalue1'}\n",
      "FluxRecord() table: 0, {'result': '_result', 'table': 0, '_start': datetime.datetime(2024, 12, 13, 15, 18, 25, 376630, tzinfo=datetime.timezone.utc), '_stop': datetime.datetime(2024, 12, 13, 15, 28, 25, 376630, tzinfo=datetime.timezone.utc), '_time': datetime.datetime(2024, 12, 13, 15, 26, 24, 516851, tzinfo=datetime.timezone.utc), '_value': 2, '_field': 'field1', '_measurement': 'measurement1', 'tagname1': 'tagvalue1'}\n",
      "FluxRecord() table: 0, {'result': '_result', 'table': 0, '_start': datetime.datetime(2024, 12, 13, 15, 18, 25, 376630, tzinfo=datetime.timezone.utc), '_stop': datetime.datetime(2024, 12, 13, 15, 28, 25, 376630, tzinfo=datetime.timezone.utc), '_time': datetime.datetime(2024, 12, 13, 15, 26, 25, 628458, tzinfo=datetime.timezone.utc), '_value': 3, '_field': 'field1', '_measurement': 'measurement1', 'tagname1': 'tagvalue1'}\n",
      "FluxRecord() table: 0, {'result': '_result', 'table': 0, '_start': datetime.datetime(2024, 12, 13, 15, 18, 25, 376630, tzinfo=datetime.timezone.utc), '_stop': datetime.datetime(2024, 12, 13, 15, 28, 25, 376630, tzinfo=datetime.timezone.utc), '_time': datetime.datetime(2024, 12, 13, 15, 26, 26, 719032, tzinfo=datetime.timezone.utc), '_value': 4, '_field': 'field1', '_measurement': 'measurement1', 'tagname1': 'tagvalue1'}\n"
     ]
    }
   ],
   "source": [
    "query_api = write_client.query_api()\n",
    "\n",
    "query = \"\"\"from(bucket: \"test_bucket\")\n",
    "    |> range(start: -10m)\n",
    "    |> filter(fn: (r) => r._measurement == \"measurement1\")\"\"\"\n",
    "tables = query_api.query(query, org=\"None\")\n",
    "\n",
    "for table in tables:\n",
    "    for record in table.records:\n",
    "        print(record)"
   ]
  },
  {
   "cell_type": "code",
   "execution_count": 12,
   "id": "dc61277d",
   "metadata": {},
   "outputs": [
    {
     "name": "stdout",
     "output_type": "stream",
     "text": [
      "FluxRecord() table: 0, {'result': '_result', 'table': 0, '_start': datetime.datetime(2024, 12, 13, 15, 19, 1, 732013, tzinfo=datetime.timezone.utc), '_stop': datetime.datetime(2024, 12, 13, 15, 29, 1, 732013, tzinfo=datetime.timezone.utc), '_value': 2.0, '_field': 'field1', '_measurement': 'measurement1', 'tagname1': 'tagvalue1'}\n"
     ]
    }
   ],
   "source": [
    "query_api = write_client.query_api()\n",
    "\n",
    "query = \"\"\"from(bucket: \"test_bucket\")\n",
    "    |> range(start: -10m)\n",
    "    |> filter(fn: (r) => r._measurement == \"measurement1\")\n",
    "    |> mean()\"\"\"\n",
    "tables = query_api.query(query, org=\"None\")\n",
    "\n",
    "for table in tables:\n",
    "    for record in table.records:\n",
    "        print(record)"
   ]
  },
  {
   "cell_type": "code",
   "execution_count": 13,
   "id": "ccc49dee",
   "metadata": {},
   "outputs": [
    {
     "data": {
      "text/plain": [
       "[<FluxTable: 8 columns, 1 records>]"
      ]
     },
     "execution_count": 13,
     "metadata": {},
     "output_type": "execute_result"
    }
   ],
   "source": [
    "tables"
   ]
  },
  {
   "cell_type": "code",
   "execution_count": 1,
   "id": "a525a571",
   "metadata": {},
   "outputs": [],
   "source": [
    "import asyncio\n",
    "import os\n",
    "from tapo import ApiClient\n",
    "from dotenv import load_dotenv\n",
    "\n",
    "from utils import monitor_power_and_notify\n",
    "\n",
    "\n",
    "load_dotenv()\n",
    "tapo_username = os.getenv(\"TAPO_USERNAME\")\n",
    "tapo_password = os.getenv(\"TAPO_PASSWORD\")\n",
    "pushover_user_group = os.getenv(\"PUSHOVER_USER_GROUP_WOERIS\")\n",
    "wasching_machine_ip_address = os.getenv(\"WASCHING_MACHINE_IP_ADDRESS\")\n",
    "\n",
    "client = ApiClient(tapo_username, tapo_password)\n"
   ]
  },
  {
   "cell_type": "code",
   "execution_count": 2,
   "id": "0a8a2925",
   "metadata": {},
   "outputs": [],
   "source": [
    "device_wasching_machine = await client.p110(wasching_machine_ip_address)"
   ]
  },
  {
   "cell_type": "code",
   "execution_count": 3,
   "id": "1ea33fd2",
   "metadata": {},
   "outputs": [
    {
     "data": {
      "text/plain": [
       "<PlugEnergyMonitoringHandler at 0x1185cad30>"
      ]
     },
     "execution_count": 3,
     "metadata": {},
     "output_type": "execute_result"
    }
   ],
   "source": [
    "device_wasching_machine"
   ]
  },
  {
   "cell_type": "code",
   "execution_count": null,
   "id": "f8944c8e",
   "metadata": {},
   "outputs": [
    {
     "name": "stdout",
     "output_type": "stream",
     "text": [
      "Current power: 0W\n"
     ]
    }
   ],
   "source": [
    "await monitor_power_and_notify(device=device_wasching_machine, user=pushover_user_group, message=\"Die Wäsche ist fertig, Tapsi! 🧺🐶\")"
   ]
  },
  {
   "cell_type": "code",
   "execution_count": 7,
   "id": "53292a9e",
   "metadata": {},
   "outputs": [
    {
     "name": "stdout",
     "output_type": "stream",
     "text": [
      "2025-01-01 20:30:56.315561\n"
     ]
    }
   ],
   "source": [
    "from datetime import datetime\n",
    "print(datetime.now())"
   ]
  },
  {
   "cell_type": "code",
   "execution_count": 22,
   "id": "0858509f",
   "metadata": {},
   "outputs": [
    {
     "name": "stdout",
     "output_type": "stream",
     "text": [
      "Data exported to power_consumption_export_20250424.parquet\n"
     ]
    },
    {
     "name": "stderr",
     "output_type": "stream",
     "text": [
      "/var/folders/29/9sbs0n5j2dx09wpxhjw1tgbm9575g4/T/ipykernel_71877/828729857.py:57: SettingWithCopyWarning: \n",
      "A value is trying to be set on a copy of a slice from a DataFrame\n",
      "\n",
      "See the caveats in the documentation: https://pandas.pydata.org/pandas-docs/stable/user_guide/indexing.html#returning-a-view-versus-a-copy\n",
      "  df.rename(columns={'_time': 'timestamp', 'device': 'device_name', 'power': 'power_watts'}, inplace=True)\n"
     ]
    }
   ],
   "source": [
    "from influxdb_client import InfluxDBClient\n",
    "from influxdb_client.client.write_api import SYNCHRONOUS\n",
    "import pandas as pd\n",
    "import os\n",
    "from datetime import datetime, timedelta\n",
    "from dotenv import load_dotenv\n",
    "\n",
    "load_dotenv()\n",
    "\n",
    "# InfluxDB connection parameters\n",
    "influx_url = \"http://192.168.178.114:8088\"\n",
    "influx_token = os.environ.get(\"INFLUXDB_TOKEN\")\n",
    "influx_org = \"None\"\n",
    "influx_bucket = \"power_consumption\"\n",
    "\n",
    "# Time range for data export (adjust as needed)\n",
    "start_time = datetime.now() - timedelta(days=49)  # Last 30 days\n",
    "end_time = datetime.now()  # Up to yesterday\n",
    "\n",
    "# Query to get all power consumption data\n",
    "query = f'''\n",
    "from(bucket: \"{influx_bucket}\")\n",
    "  |> range(start: {start_time.strftime(\"%Y-%m-%dT%H:%M:%SZ\")}, stop: {end_time.strftime(\"%Y-%m-%dT%H:%M:%SZ\")})\n",
    "  |> filter(fn: (r) => r._measurement == \"power_consumption\")\n",
    "  |> pivot(rowKey:[\"_time\"], columnKey: [\"_field\"], valueColumn: \"_value\")\n",
    "'''\n",
    "\n",
    "# query = f'''\n",
    "# from(bucket: \"{influx_bucket}\")\n",
    "#   |> range(start: 0)\n",
    "#   |> filter(fn: (r) => r._measurement == \"power_consumption\")\n",
    "#   |> sort(columns: [\"_time\"], desc: false)\n",
    "#   |> limit(n:1)\n",
    "# '''\n",
    "\n",
    "# Connect to InfluxDB and execute query\n",
    "with InfluxDBClient(url=influx_url, token=influx_token, org=influx_org) as client:\n",
    "    query_api = client.query_api()\n",
    "    try:\n",
    "        # Set a timeout for the query to prevent hanging\n",
    "        result = query_api.query_data_frame(query)  # 60 seconds timeout in milliseconds\n",
    "    except Exception as e:\n",
    "        print(f\"Error querying InfluxDB: {e}\")\n",
    "        # Create empty DataFrame with expected columns if query fails\n",
    "        result = pd.DataFrame(columns=['_time', 'device', 'power'])\n",
    "    \n",
    "    if isinstance(result, list):\n",
    "        # If multiple DataFrames are returned, concatenate them\n",
    "        df = pd.concat(result)\n",
    "    else:\n",
    "        df = result\n",
    "    \n",
    "    # Clean up the DataFrame\n",
    "    if not df.empty:\n",
    "        # Select and rename relevant columns\n",
    "        df = df[['_time', 'device', 'power']]\n",
    "        df.rename(columns={'_time': 'timestamp', 'device': 'device_name', 'power': 'power_watts'}, inplace=True)\n",
    "        \n",
    "        # Export to CSV\n",
    "        # csv_filename = f\"power_consumption_export_{datetime.now().strftime('%Y%m%d')}.csv\"\n",
    "        # df.to_csv(csv_filename, index=False)\n",
    "        # print(f\"Data exported to {csv_filename}\")\n",
    "        \n",
    "        # Optionally export to Parquet\n",
    "        parquet_filename = f\"power_consumption_export_{datetime.now().strftime('%Y%m%d')}.parquet\"\n",
    "        df.to_parquet(parquet_filename, index=False)\n",
    "        print(f\"Data exported to {parquet_filename}\")\n",
    "    else:\n",
    "        print(\"No data found for the specified time range\")"
   ]
  },
  {
   "cell_type": "code",
   "execution_count": 4,
   "id": "0484871e",
   "metadata": {},
   "outputs": [
    {
     "name": "stdout",
     "output_type": "stream",
     "text": [
      "If6bH_EIYLSOXw802HsWc7wbBZKIjB3NWc11lEslNoJwoZzSo804b0oYOdoE4a0lSNZtHfJHNn34l8546gdzMQ==\n"
     ]
    }
   ],
   "source": [
    "print(influx_token)"
   ]
  },
  {
   "cell_type": "code",
   "execution_count": 23,
   "id": "18586290",
   "metadata": {},
   "outputs": [],
   "source": [
    "df_49_0 = df.copy()"
   ]
  },
  {
   "cell_type": "code",
   "execution_count": 24,
   "id": "ed0cb4ba",
   "metadata": {},
   "outputs": [],
   "source": [
    "df = pd.concat([df_130_90, df_89_50, df_49_0], ignore_index=True)"
   ]
  },
  {
   "cell_type": "code",
   "execution_count": 25,
   "id": "3d91e2bd",
   "metadata": {},
   "outputs": [
    {
     "data": {
      "text/html": [
       "<div>\n",
       "<style scoped>\n",
       "    .dataframe tbody tr th:only-of-type {\n",
       "        vertical-align: middle;\n",
       "    }\n",
       "\n",
       "    .dataframe tbody tr th {\n",
       "        vertical-align: top;\n",
       "    }\n",
       "\n",
       "    .dataframe thead th {\n",
       "        text-align: right;\n",
       "    }\n",
       "</style>\n",
       "<table border=\"1\" class=\"dataframe\">\n",
       "  <thead>\n",
       "    <tr style=\"text-align: right;\">\n",
       "      <th></th>\n",
       "      <th>timestamp</th>\n",
       "      <th>device_name</th>\n",
       "      <th>power_watts</th>\n",
       "    </tr>\n",
       "  </thead>\n",
       "  <tbody>\n",
       "    <tr>\n",
       "      <th>0</th>\n",
       "      <td>2024-12-15 22:52:04.072673+00:00</td>\n",
       "      <td>bedroom</td>\n",
       "      <td>3</td>\n",
       "    </tr>\n",
       "    <tr>\n",
       "      <th>1</th>\n",
       "      <td>2024-12-15 22:52:38.150659+00:00</td>\n",
       "      <td>bedroom</td>\n",
       "      <td>3</td>\n",
       "    </tr>\n",
       "    <tr>\n",
       "      <th>2</th>\n",
       "      <td>2024-12-15 22:53:10.560969+00:00</td>\n",
       "      <td>bedroom</td>\n",
       "      <td>3</td>\n",
       "    </tr>\n",
       "    <tr>\n",
       "      <th>3</th>\n",
       "      <td>2024-12-15 22:53:44.858782+00:00</td>\n",
       "      <td>bedroom</td>\n",
       "      <td>3</td>\n",
       "    </tr>\n",
       "    <tr>\n",
       "      <th>4</th>\n",
       "      <td>2024-12-15 22:54:18.295927+00:00</td>\n",
       "      <td>bedroom</td>\n",
       "      <td>2</td>\n",
       "    </tr>\n",
       "    <tr>\n",
       "      <th>...</th>\n",
       "      <td>...</td>\n",
       "      <td>...</td>\n",
       "      <td>...</td>\n",
       "    </tr>\n",
       "    <tr>\n",
       "      <th>2967809</th>\n",
       "      <td>2025-04-24 20:52:09.185973+00:00</td>\n",
       "      <td>washing_machine</td>\n",
       "      <td>0</td>\n",
       "    </tr>\n",
       "    <tr>\n",
       "      <th>2967810</th>\n",
       "      <td>2025-04-24 20:52:41.950741+00:00</td>\n",
       "      <td>washing_machine</td>\n",
       "      <td>0</td>\n",
       "    </tr>\n",
       "    <tr>\n",
       "      <th>2967811</th>\n",
       "      <td>2025-04-24 20:53:14.129687+00:00</td>\n",
       "      <td>washing_machine</td>\n",
       "      <td>0</td>\n",
       "    </tr>\n",
       "    <tr>\n",
       "      <th>2967812</th>\n",
       "      <td>2025-04-24 20:53:46.367341+00:00</td>\n",
       "      <td>washing_machine</td>\n",
       "      <td>0</td>\n",
       "    </tr>\n",
       "    <tr>\n",
       "      <th>2967813</th>\n",
       "      <td>2025-04-24 20:54:19.018626+00:00</td>\n",
       "      <td>washing_machine</td>\n",
       "      <td>0</td>\n",
       "    </tr>\n",
       "  </tbody>\n",
       "</table>\n",
       "<p>2967814 rows × 3 columns</p>\n",
       "</div>"
      ],
      "text/plain": [
       "                               timestamp      device_name  power_watts\n",
       "0       2024-12-15 22:52:04.072673+00:00          bedroom            3\n",
       "1       2024-12-15 22:52:38.150659+00:00          bedroom            3\n",
       "2       2024-12-15 22:53:10.560969+00:00          bedroom            3\n",
       "3       2024-12-15 22:53:44.858782+00:00          bedroom            3\n",
       "4       2024-12-15 22:54:18.295927+00:00          bedroom            2\n",
       "...                                  ...              ...          ...\n",
       "2967809 2025-04-24 20:52:09.185973+00:00  washing_machine            0\n",
       "2967810 2025-04-24 20:52:41.950741+00:00  washing_machine            0\n",
       "2967811 2025-04-24 20:53:14.129687+00:00  washing_machine            0\n",
       "2967812 2025-04-24 20:53:46.367341+00:00  washing_machine            0\n",
       "2967813 2025-04-24 20:54:19.018626+00:00  washing_machine            0\n",
       "\n",
       "[2967814 rows x 3 columns]"
      ]
     },
     "execution_count": 25,
     "metadata": {},
     "output_type": "execute_result"
    }
   ],
   "source": [
    "df"
   ]
  },
  {
   "cell_type": "code",
   "execution_count": 26,
   "id": "d30ab6d0",
   "metadata": {},
   "outputs": [
    {
     "name": "stdout",
     "output_type": "stream",
     "text": [
      "Data exported to power_consumption_export_20250424.parquet\n"
     ]
    }
   ],
   "source": [
    "parquet_filename = f\"power_consumption_export_{datetime.now().strftime('%Y%m%d')}.parquet\"\n",
    "df.to_parquet(parquet_filename, index=False)\n",
    "print(f\"Data exported to {parquet_filename}\")"
   ]
  },
  {
   "cell_type": "code",
   "execution_count": 4,
   "id": "7902fd39",
   "metadata": {},
   "outputs": [
    {
     "ename": "ModuleNotFoundError",
     "evalue": "No module named 'plotly'",
     "output_type": "error",
     "traceback": [
      "\u001B[0;31m---------------------------------------------------------------------------\u001B[0m",
      "\u001B[0;31mModuleNotFoundError\u001B[0m                       Traceback (most recent call last)",
      "Cell \u001B[0;32mIn[4], line 1\u001B[0m\n\u001B[0;32m----> 1\u001B[0m \u001B[38;5;28;01mimport\u001B[39;00m \u001B[38;5;21;01mplotly\u001B[39;00m\u001B[38;5;21;01m.\u001B[39;00m\u001B[38;5;21;01mexpress\u001B[39;00m \u001B[38;5;28;01mas\u001B[39;00m \u001B[38;5;21;01mpx\u001B[39;00m\n\u001B[1;32m      2\u001B[0m \u001B[38;5;28;01mimport\u001B[39;00m \u001B[38;5;21;01mplotly\u001B[39;00m\u001B[38;5;21;01m.\u001B[39;00m\u001B[38;5;21;01mio\u001B[39;00m \u001B[38;5;28;01mas\u001B[39;00m \u001B[38;5;21;01mpio\u001B[39;00m\n\u001B[1;32m      3\u001B[0m pio\u001B[38;5;241m.\u001B[39mtemplates\u001B[38;5;241m.\u001B[39mdefault \u001B[38;5;241m=\u001B[39m \u001B[38;5;124m\"\u001B[39m\u001B[38;5;124mplotly_white\u001B[39m\u001B[38;5;124m\"\u001B[39m\n",
      "\u001B[0;31mModuleNotFoundError\u001B[0m: No module named 'plotly'"
     ]
    }
   ],
   "source": [
    "import plotly.express as px\n",
    "import plotly.io as pio\n",
    "pio.templates.default = \"plotly_white\"\n",
    "\n",
    "# Create a line plot for power consumption by device over time\n",
    "fig = px.line(df, \n",
    "              x='timestamp', \n",
    "              y='power_watts', \n",
    "              color='device_name',\n",
    "              title='Power Consumption Over Time by Device',\n",
    "              labels={\n",
    "                  'timestamp': 'Date & Time',\n",
    "                  'power_watts': 'Power (Watts)',\n",
    "                  'device_name': 'Device'\n",
    "              })\n",
    "\n",
    "# Improve the layout\n",
    "fig.update_layout(\n",
    "    legend_title_text='Device',\n",
    "    xaxis_title='Date & Time',\n",
    "    yaxis_title='Power (Watts)',\n",
    "    height=600,\n",
    "    hovermode='closest'\n",
    ")\n",
    "\n",
    "# Add range slider\n",
    "fig.update_xaxes(\n",
    "    rangeslider_visible=True,\n",
    "    rangeselector=dict(\n",
    "        buttons=list([\n",
    "            dict(count=1, label=\"1d\", step=\"day\", stepmode=\"backward\"),\n",
    "            dict(count=7, label=\"1w\", step=\"day\", stepmode=\"backward\"),\n",
    "            dict(count=1, label=\"1m\", step=\"month\", stepmode=\"backward\"),\n",
    "            dict(step=\"all\")\n",
    "        ])\n",
    "    )\n",
    ")\n",
    "\n",
    "fig.show()"
   ]
  }
 ],
 "metadata": {
  "kernelspec": {
   "display_name": ".venv",
   "language": "python",
   "name": "python3"
  },
  "language_info": {
   "codemirror_mode": {
    "name": "ipython",
    "version": 3
   },
   "file_extension": ".py",
   "mimetype": "text/x-python",
   "name": "python",
   "nbconvert_exporter": "python",
   "pygments_lexer": "ipython3",
   "version": "3.13.2"
  }
 },
 "nbformat": 4,
 "nbformat_minor": 5
}
