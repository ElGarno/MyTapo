{
 "cells": [
  {
   "cell_type": "code",
   "id": "initial_id",
   "metadata": {
    "collapsed": true,
    "ExecuteTime": {
     "end_time": "2024-11-08T09:19:28.047022Z",
     "start_time": "2024-11-08T09:19:28.033259Z"
    }
   },
   "source": [
    "import os\n",
    "from dotenv import load_dotenv\n",
    "\n",
    "load_dotenv()\n",
    "tapo_username = os.getenv(\"TAPO_USERNAME\")\n",
    "tapo_password = os.getenv(\"TAPO_PASSWORD\")\n",
    "pushover_user_group = os.getenv(\"PUSHOVER_USER_GROUP_WOERIS\")"
   ],
   "outputs": [],
   "execution_count": 1
  },
  {
   "metadata": {
    "ExecuteTime": {
     "end_time": "2024-11-08T09:19:28.643960Z",
     "start_time": "2024-11-08T09:19:28.639600Z"
    }
   },
   "cell_type": "code",
   "source": "pushover_user_group",
   "id": "9fd3c9e7396a7f1a",
   "outputs": [
    {
     "data": {
      "text/plain": [
       "'gh9maxhrd44jxy8qx7ka1jc2cfiykg'"
      ]
     },
     "execution_count": 2,
     "metadata": {},
     "output_type": "execute_result"
    }
   ],
   "execution_count": 2
  },
  {
   "metadata": {
    "ExecuteTime": {
     "end_time": "2024-11-08T09:20:04.626775Z",
     "start_time": "2024-11-08T09:20:03.603141Z"
    }
   },
   "cell_type": "code",
   "source": [
    "from utils import send_pushover_notification, send_pushover_notification_new\n",
    "send_pushover_notification(pushover_user_group, \"Test\")"
   ],
   "id": "12c48928faa37428",
   "outputs": [
    {
     "name": "stdout",
     "output_type": "stream",
     "text": [
      "Sending pushover notification\n",
      "{\"status\":1,\"request\":\"0b1b769e-e3a8-47a7-a89e-cb9fe638c2d5\"}\n"
     ]
    }
   ],
   "execution_count": 4
  },
  {
   "metadata": {},
   "cell_type": "code",
   "outputs": [],
   "execution_count": null,
   "source": "send_pushover_notification_new(\"Test\", pushover_user_group)",
   "id": "fa465403ec44df09"
  },
  {
   "metadata": {
    "ExecuteTime": {
     "end_time": "2024-11-08T09:07:52.803672Z",
     "start_time": "2024-11-08T09:07:51.593032Z"
    }
   },
   "cell_type": "code",
   "source": [
    "import http.client, urllib\n",
    "conn = http.client.HTTPSConnection(\"api.pushover.net:443\")\n",
    "\n",
    "pushover_api_token = os.getenv(\"PUSHOVER_TAPO_API_TOKEN\")\n",
    "conn.request(\"POST\", \"/1/messages.json\",\n",
    "  urllib.parse.urlencode({\n",
    "    \"token\": pushover_api_token,\n",
    "    \"user\": pushover_user_group,\n",
    "    \"message\": \"hello world\",\n",
    "  }), { \"Content-type\": \"application/x-www-form-urlencoded\" })\n",
    "conn.getresponse()"
   ],
   "id": "92c1b4dbca0f4c7a",
   "outputs": [
    {
     "data": {
      "text/plain": [
       "<http.client.HTTPResponse at 0x103932a10>"
      ]
     },
     "execution_count": 4,
     "metadata": {},
     "output_type": "execute_result"
    }
   ],
   "execution_count": 4
  },
  {
   "metadata": {},
   "cell_type": "code",
   "outputs": [],
   "execution_count": null,
   "source": "",
   "id": "c24c12f99da41ebd"
  }
 ],
 "metadata": {
  "kernelspec": {
   "display_name": "Python 3 (ipykernel)",
   "language": "python",
   "name": "python3"
  },
  "language_info": {
   "codemirror_mode": {
    "name": "ipython",
    "version": 2
   },
   "file_extension": ".py",
   "mimetype": "text/x-python",
   "name": "python",
   "nbconvert_exporter": "python",
   "pygments_lexer": "ipython2",
   "version": "2.7.6"
  }
 },
 "nbformat": 4,
 "nbformat_minor": 5
}
