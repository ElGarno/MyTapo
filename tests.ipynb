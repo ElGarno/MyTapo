{
 "cells": [
  {
   "cell_type": "code",
   "id": "initial_id",
   "metadata": {
    "collapsed": true,
    "ExecuteTime": {
     "end_time": "2025-03-06T12:37:49.352099Z",
     "start_time": "2025-03-06T12:37:49.343688Z"
    }
   },
   "source": [
    "import os\n",
    "from dotenv import load_dotenv\n",
    "\n",
    "load_dotenv()\n",
    "tapo_username = os.getenv(\"TAPO_USERNAME\")\n",
    "tapo_password = os.getenv(\"TAPO_PASSWORD\")\n",
    "pushover_user_group = os.getenv(\"PUSHOVER_USER_GROUP_WOERIS\")"
   ],
   "outputs": [],
   "execution_count": 1
  },
  {
   "cell_type": "code",
   "id": "9fd3c9e7396a7f1a",
   "metadata": {
    "ExecuteTime": {
     "end_time": "2025-03-06T12:37:52.606077Z",
     "start_time": "2025-03-06T12:37:52.602490Z"
    }
   },
   "source": [
    "pushover_user_group"
   ],
   "outputs": [
    {
     "data": {
      "text/plain": [
       "'gh9maxhrd44jxy8qx7ka1jc2cfiykg'"
      ]
     },
     "execution_count": 2,
     "metadata": {},
     "output_type": "execute_result"
    }
   ],
   "execution_count": 2
  },
  {
   "metadata": {
    "ExecuteTime": {
     "end_time": "2025-03-06T13:30:51.717058Z",
     "start_time": "2025-03-06T13:30:51.715149Z"
    }
   },
   "cell_type": "code",
   "source": [
    "\n",
    "from datetime import datetime\n",
    "print(datetime.now())"
   ],
   "id": "45ca5889434c19a8",
   "outputs": [
    {
     "name": "stdout",
     "output_type": "stream",
     "text": [
      "2025-03-06 14:30:51.715760\n"
     ]
    }
   ],
   "execution_count": 5
  },
  {
   "cell_type": "code",
   "id": "12c48928faa37428",
   "metadata": {
    "ExecuteTime": {
     "end_time": "2025-03-06T12:37:54.661133Z",
     "start_time": "2025-03-06T12:37:53.704226Z"
    }
   },
   "source": [
    "from utils import send_pushover_notification_new\n",
    "send_pushover_notification_new(pushover_user_group, \"Test with new send method\")"
   ],
   "outputs": [],
   "execution_count": 3
  },
  {
   "cell_type": "code",
   "execution_count": 4,
   "id": "92c1b4dbca0f4c7a",
   "metadata": {
    "ExecuteTime": {
     "end_time": "2024-11-08T09:07:52.803672Z",
     "start_time": "2024-11-08T09:07:51.593032Z"
    }
   },
   "outputs": [
    {
     "data": {
      "text/plain": [
       "<http.client.HTTPResponse at 0x103932a10>"
      ]
     },
     "execution_count": 4,
     "metadata": {},
     "output_type": "execute_result"
    }
   ],
   "source": [
    "import http.client, urllib\n",
    "conn = http.client.HTTPSConnection(\"api.pushover.net:443\")\n",
    "\n",
    "pushover_api_token = os.getenv(\"PUSHOVER_TAPO_API_TOKEN\")\n",
    "conn.request(\"POST\", \"/1/messages.json\",\n",
    "  urllib.parse.urlencode({\n",
    "    \"token\": pushover_api_token,\n",
    "    \"user\": pushover_user_group,\n",
    "    \"message\": \"hello world\",\n",
    "  }), { \"Content-type\": \"application/x-www-form-urlencoded\" })\n",
    "conn.getresponse()"
   ]
  },
  {
   "cell_type": "code",
   "execution_count": 8,
   "id": "c24c12f99da41ebd",
   "metadata": {},
   "outputs": [],
   "source": [
    "import influxdb_client, os, time\n",
    "from influxdb_client import InfluxDBClient, Point, WritePrecision\n",
    "from influxdb_client.client.write_api import SYNCHRONOUS\n",
    "\n",
    "token = os.environ.get(\"INFLUXDB_TOKEN\")\n",
    "org = \"None\"\n",
    "url = \"http://192.168.178.114:8088\"\n",
    "\n",
    "write_client = influxdb_client.InfluxDBClient(url=url, token=token, org=org)"
   ]
  },
  {
   "cell_type": "code",
   "execution_count": 9,
   "id": "c5320dbd",
   "metadata": {},
   "outputs": [],
   "source": [
    "bucket=\"test_bucket\"\n",
    "\n",
    "write_api = write_client.write_api(write_options=SYNCHRONOUS)\n",
    "   \n",
    "for value in range(5):\n",
    "    point = (\n",
    "        Point(\"measurement1\")\n",
    "        .tag(\"tagname1\", \"tagvalue1\")\n",
    "        .field(\"field1\", value)\n",
    "    )\n",
    "    write_api.write(bucket=bucket, org=\"None\", record=point)\n",
    "    time.sleep(1) # separate points by 1 second"
   ]
  },
  {
   "cell_type": "code",
   "execution_count": 11,
   "id": "923ed4da",
   "metadata": {},
   "outputs": [
    {
     "name": "stdout",
     "output_type": "stream",
     "text": [
      "FluxRecord() table: 0, {'result': '_result', 'table': 0, '_start': datetime.datetime(2024, 12, 13, 15, 18, 25, 376630, tzinfo=datetime.timezone.utc), '_stop': datetime.datetime(2024, 12, 13, 15, 28, 25, 376630, tzinfo=datetime.timezone.utc), '_time': datetime.datetime(2024, 12, 13, 15, 26, 20, 935153, tzinfo=datetime.timezone.utc), '_value': 0, '_field': 'field1', '_measurement': 'measurement1', 'tagname1': 'tagvalue1'}\n",
      "FluxRecord() table: 0, {'result': '_result', 'table': 0, '_start': datetime.datetime(2024, 12, 13, 15, 18, 25, 376630, tzinfo=datetime.timezone.utc), '_stop': datetime.datetime(2024, 12, 13, 15, 28, 25, 376630, tzinfo=datetime.timezone.utc), '_time': datetime.datetime(2024, 12, 13, 15, 26, 23, 421039, tzinfo=datetime.timezone.utc), '_value': 1, '_field': 'field1', '_measurement': 'measurement1', 'tagname1': 'tagvalue1'}\n",
      "FluxRecord() table: 0, {'result': '_result', 'table': 0, '_start': datetime.datetime(2024, 12, 13, 15, 18, 25, 376630, tzinfo=datetime.timezone.utc), '_stop': datetime.datetime(2024, 12, 13, 15, 28, 25, 376630, tzinfo=datetime.timezone.utc), '_time': datetime.datetime(2024, 12, 13, 15, 26, 24, 516851, tzinfo=datetime.timezone.utc), '_value': 2, '_field': 'field1', '_measurement': 'measurement1', 'tagname1': 'tagvalue1'}\n",
      "FluxRecord() table: 0, {'result': '_result', 'table': 0, '_start': datetime.datetime(2024, 12, 13, 15, 18, 25, 376630, tzinfo=datetime.timezone.utc), '_stop': datetime.datetime(2024, 12, 13, 15, 28, 25, 376630, tzinfo=datetime.timezone.utc), '_time': datetime.datetime(2024, 12, 13, 15, 26, 25, 628458, tzinfo=datetime.timezone.utc), '_value': 3, '_field': 'field1', '_measurement': 'measurement1', 'tagname1': 'tagvalue1'}\n",
      "FluxRecord() table: 0, {'result': '_result', 'table': 0, '_start': datetime.datetime(2024, 12, 13, 15, 18, 25, 376630, tzinfo=datetime.timezone.utc), '_stop': datetime.datetime(2024, 12, 13, 15, 28, 25, 376630, tzinfo=datetime.timezone.utc), '_time': datetime.datetime(2024, 12, 13, 15, 26, 26, 719032, tzinfo=datetime.timezone.utc), '_value': 4, '_field': 'field1', '_measurement': 'measurement1', 'tagname1': 'tagvalue1'}\n"
     ]
    }
   ],
   "source": [
    "query_api = write_client.query_api()\n",
    "\n",
    "query = \"\"\"from(bucket: \"test_bucket\")\n",
    "    |> range(start: -10m)\n",
    "    |> filter(fn: (r) => r._measurement == \"measurement1\")\"\"\"\n",
    "tables = query_api.query(query, org=\"None\")\n",
    "\n",
    "for table in tables:\n",
    "    for record in table.records:\n",
    "        print(record)"
   ]
  },
  {
   "cell_type": "code",
   "execution_count": 12,
   "id": "dc61277d",
   "metadata": {},
   "outputs": [
    {
     "name": "stdout",
     "output_type": "stream",
     "text": [
      "FluxRecord() table: 0, {'result': '_result', 'table': 0, '_start': datetime.datetime(2024, 12, 13, 15, 19, 1, 732013, tzinfo=datetime.timezone.utc), '_stop': datetime.datetime(2024, 12, 13, 15, 29, 1, 732013, tzinfo=datetime.timezone.utc), '_value': 2.0, '_field': 'field1', '_measurement': 'measurement1', 'tagname1': 'tagvalue1'}\n"
     ]
    }
   ],
   "source": [
    "query_api = write_client.query_api()\n",
    "\n",
    "query = \"\"\"from(bucket: \"test_bucket\")\n",
    "    |> range(start: -10m)\n",
    "    |> filter(fn: (r) => r._measurement == \"measurement1\")\n",
    "    |> mean()\"\"\"\n",
    "tables = query_api.query(query, org=\"None\")\n",
    "\n",
    "for table in tables:\n",
    "    for record in table.records:\n",
    "        print(record)"
   ]
  },
  {
   "cell_type": "code",
   "execution_count": 13,
   "id": "ccc49dee",
   "metadata": {},
   "outputs": [
    {
     "data": {
      "text/plain": [
       "[<FluxTable: 8 columns, 1 records>]"
      ]
     },
     "execution_count": 13,
     "metadata": {},
     "output_type": "execute_result"
    }
   ],
   "source": [
    "tables"
   ]
  },
  {
   "cell_type": "code",
   "execution_count": 1,
   "id": "a525a571",
   "metadata": {},
   "outputs": [],
   "source": [
    "import asyncio\n",
    "import os\n",
    "from tapo import ApiClient\n",
    "from dotenv import load_dotenv\n",
    "\n",
    "from utils import monitor_power_and_notify\n",
    "\n",
    "\n",
    "load_dotenv()\n",
    "tapo_username = os.getenv(\"TAPO_USERNAME\")\n",
    "tapo_password = os.getenv(\"TAPO_PASSWORD\")\n",
    "pushover_user_group = os.getenv(\"PUSHOVER_USER_GROUP_WOERIS\")\n",
    "wasching_machine_ip_address = os.getenv(\"WASCHING_MACHINE_IP_ADDRESS\")\n",
    "\n",
    "client = ApiClient(tapo_username, tapo_password)\n"
   ]
  },
  {
   "cell_type": "code",
   "execution_count": 2,
   "id": "0a8a2925",
   "metadata": {},
   "outputs": [],
   "source": [
    "device_wasching_machine = await client.p110(wasching_machine_ip_address)"
   ]
  },
  {
   "cell_type": "code",
   "execution_count": 3,
   "id": "1ea33fd2",
   "metadata": {},
   "outputs": [
    {
     "data": {
      "text/plain": [
       "<PlugEnergyMonitoringHandler at 0x1185cad30>"
      ]
     },
     "execution_count": 3,
     "metadata": {},
     "output_type": "execute_result"
    }
   ],
   "source": [
    "device_wasching_machine"
   ]
  },
  {
   "cell_type": "code",
   "execution_count": null,
   "id": "f8944c8e",
   "metadata": {},
   "outputs": [
    {
     "name": "stdout",
     "output_type": "stream",
     "text": [
      "Current power: 0W\n"
     ]
    }
   ],
   "source": [
    "await monitor_power_and_notify(device=device_wasching_machine, user=pushover_user_group, message=\"Die Wäsche ist fertig, Tapsi! 🧺🐶\")"
   ]
  },
  {
   "cell_type": "code",
   "execution_count": 7,
   "id": "53292a9e",
   "metadata": {},
   "outputs": [
    {
     "name": "stdout",
     "output_type": "stream",
     "text": [
      "2025-01-01 20:30:56.315561\n"
     ]
    }
   ],
   "source": [
    "from datetime import datetime\n",
    "print(datetime.now())"
   ]
  },
  {
   "cell_type": "code",
   "execution_count": null,
   "id": "0858509f",
   "metadata": {},
   "outputs": [],
   "source": []
  }
 ],
 "metadata": {
  "kernelspec": {
   "display_name": ".venv",
   "language": "python",
   "name": "python3"
  },
  "language_info": {
   "codemirror_mode": {
    "name": "ipython",
    "version": 3
   },
   "file_extension": ".py",
   "mimetype": "text/x-python",
   "name": "python",
   "nbconvert_exporter": "python",
   "pygments_lexer": "ipython3",
   "version": "3.13.1"
  }
 },
 "nbformat": 4,
 "nbformat_minor": 5
}
