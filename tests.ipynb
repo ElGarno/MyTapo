{
 "cells": [
  {
   "cell_type": "code",
   "execution_count": 7,
   "id": "initial_id",
   "metadata": {
    "ExecuteTime": {
     "end_time": "2024-11-08T09:19:28.047022Z",
     "start_time": "2024-11-08T09:19:28.033259Z"
    },
    "collapsed": true
   },
   "outputs": [],
   "source": [
    "import os\n",
    "from dotenv import load_dotenv\n",
    "\n",
    "load_dotenv()\n",
    "tapo_username = os.getenv(\"TAPO_USERNAME\")\n",
    "tapo_password = os.getenv(\"TAPO_PASSWORD\")\n",
    "pushover_user_group = os.getenv(\"PUSHOVER_USER_GROUP_WOERIS\")"
   ]
  },
  {
   "cell_type": "code",
   "execution_count": 5,
   "id": "9fd3c9e7396a7f1a",
   "metadata": {
    "ExecuteTime": {
     "end_time": "2024-11-08T09:19:28.643960Z",
     "start_time": "2024-11-08T09:19:28.639600Z"
    }
   },
   "outputs": [
    {
     "data": {
      "text/plain": [
       "'gh9maxhrd44jxy8qx7ka1jc2cfiykg'"
      ]
     },
     "execution_count": 5,
     "metadata": {},
     "output_type": "execute_result"
    }
   ],
   "source": [
    "pushover_user_group"
   ]
  },
  {
   "cell_type": "code",
   "execution_count": 6,
   "id": "12c48928faa37428",
   "metadata": {
    "ExecuteTime": {
     "end_time": "2024-11-08T09:20:04.626775Z",
     "start_time": "2024-11-08T09:20:03.603141Z"
    }
   },
   "outputs": [
    {
     "name": "stdout",
     "output_type": "stream",
     "text": [
      "{\"status\":1,\"request\":\"18aa3dbb-38d1-4067-bf78-08648d6dade9\"}\n"
     ]
    }
   ],
   "source": [
    "from utils import send_pushover_notification\n",
    "send_pushover_notification(pushover_user_group, \"Test\")"
   ]
  },
  {
   "cell_type": "code",
   "execution_count": 4,
   "id": "92c1b4dbca0f4c7a",
   "metadata": {
    "ExecuteTime": {
     "end_time": "2024-11-08T09:07:52.803672Z",
     "start_time": "2024-11-08T09:07:51.593032Z"
    }
   },
   "outputs": [
    {
     "data": {
      "text/plain": [
       "<http.client.HTTPResponse at 0x103932a10>"
      ]
     },
     "execution_count": 4,
     "metadata": {},
     "output_type": "execute_result"
    }
   ],
   "source": [
    "import http.client, urllib\n",
    "conn = http.client.HTTPSConnection(\"api.pushover.net:443\")\n",
    "\n",
    "pushover_api_token = os.getenv(\"PUSHOVER_TAPO_API_TOKEN\")\n",
    "conn.request(\"POST\", \"/1/messages.json\",\n",
    "  urllib.parse.urlencode({\n",
    "    \"token\": pushover_api_token,\n",
    "    \"user\": pushover_user_group,\n",
    "    \"message\": \"hello world\",\n",
    "  }), { \"Content-type\": \"application/x-www-form-urlencoded\" })\n",
    "conn.getresponse()"
   ]
  },
  {
   "cell_type": "code",
   "execution_count": 8,
   "id": "c24c12f99da41ebd",
   "metadata": {},
   "outputs": [],
   "source": [
    "import influxdb_client, os, time\n",
    "from influxdb_client import InfluxDBClient, Point, WritePrecision\n",
    "from influxdb_client.client.write_api import SYNCHRONOUS\n",
    "\n",
    "token = os.environ.get(\"INFLUXDB_TOKEN\")\n",
    "org = \"None\"\n",
    "url = \"http://192.168.178.114:8088\"\n",
    "\n",
    "write_client = influxdb_client.InfluxDBClient(url=url, token=token, org=org)"
   ]
  },
  {
   "cell_type": "code",
   "execution_count": 9,
   "id": "c5320dbd",
   "metadata": {},
   "outputs": [],
   "source": [
    "bucket=\"test_bucket\"\n",
    "\n",
    "write_api = write_client.write_api(write_options=SYNCHRONOUS)\n",
    "   \n",
    "for value in range(5):\n",
    "    point = (\n",
    "        Point(\"measurement1\")\n",
    "        .tag(\"tagname1\", \"tagvalue1\")\n",
    "        .field(\"field1\", value)\n",
    "    )\n",
    "    write_api.write(bucket=bucket, org=\"None\", record=point)\n",
    "    time.sleep(1) # separate points by 1 second"
   ]
  },
  {
   "cell_type": "code",
   "execution_count": 11,
   "id": "923ed4da",
   "metadata": {},
   "outputs": [
    {
     "name": "stdout",
     "output_type": "stream",
     "text": [
      "FluxRecord() table: 0, {'result': '_result', 'table': 0, '_start': datetime.datetime(2024, 12, 13, 15, 18, 25, 376630, tzinfo=datetime.timezone.utc), '_stop': datetime.datetime(2024, 12, 13, 15, 28, 25, 376630, tzinfo=datetime.timezone.utc), '_time': datetime.datetime(2024, 12, 13, 15, 26, 20, 935153, tzinfo=datetime.timezone.utc), '_value': 0, '_field': 'field1', '_measurement': 'measurement1', 'tagname1': 'tagvalue1'}\n",
      "FluxRecord() table: 0, {'result': '_result', 'table': 0, '_start': datetime.datetime(2024, 12, 13, 15, 18, 25, 376630, tzinfo=datetime.timezone.utc), '_stop': datetime.datetime(2024, 12, 13, 15, 28, 25, 376630, tzinfo=datetime.timezone.utc), '_time': datetime.datetime(2024, 12, 13, 15, 26, 23, 421039, tzinfo=datetime.timezone.utc), '_value': 1, '_field': 'field1', '_measurement': 'measurement1', 'tagname1': 'tagvalue1'}\n",
      "FluxRecord() table: 0, {'result': '_result', 'table': 0, '_start': datetime.datetime(2024, 12, 13, 15, 18, 25, 376630, tzinfo=datetime.timezone.utc), '_stop': datetime.datetime(2024, 12, 13, 15, 28, 25, 376630, tzinfo=datetime.timezone.utc), '_time': datetime.datetime(2024, 12, 13, 15, 26, 24, 516851, tzinfo=datetime.timezone.utc), '_value': 2, '_field': 'field1', '_measurement': 'measurement1', 'tagname1': 'tagvalue1'}\n",
      "FluxRecord() table: 0, {'result': '_result', 'table': 0, '_start': datetime.datetime(2024, 12, 13, 15, 18, 25, 376630, tzinfo=datetime.timezone.utc), '_stop': datetime.datetime(2024, 12, 13, 15, 28, 25, 376630, tzinfo=datetime.timezone.utc), '_time': datetime.datetime(2024, 12, 13, 15, 26, 25, 628458, tzinfo=datetime.timezone.utc), '_value': 3, '_field': 'field1', '_measurement': 'measurement1', 'tagname1': 'tagvalue1'}\n",
      "FluxRecord() table: 0, {'result': '_result', 'table': 0, '_start': datetime.datetime(2024, 12, 13, 15, 18, 25, 376630, tzinfo=datetime.timezone.utc), '_stop': datetime.datetime(2024, 12, 13, 15, 28, 25, 376630, tzinfo=datetime.timezone.utc), '_time': datetime.datetime(2024, 12, 13, 15, 26, 26, 719032, tzinfo=datetime.timezone.utc), '_value': 4, '_field': 'field1', '_measurement': 'measurement1', 'tagname1': 'tagvalue1'}\n"
     ]
    }
   ],
   "source": [
    "query_api = write_client.query_api()\n",
    "\n",
    "query = \"\"\"from(bucket: \"test_bucket\")\n",
    "    |> range(start: -10m)\n",
    "    |> filter(fn: (r) => r._measurement == \"measurement1\")\"\"\"\n",
    "tables = query_api.query(query, org=\"None\")\n",
    "\n",
    "for table in tables:\n",
    "    for record in table.records:\n",
    "        print(record)"
   ]
  },
  {
   "cell_type": "code",
   "execution_count": 12,
   "id": "dc61277d",
   "metadata": {},
   "outputs": [
    {
     "name": "stdout",
     "output_type": "stream",
     "text": [
      "FluxRecord() table: 0, {'result': '_result', 'table': 0, '_start': datetime.datetime(2024, 12, 13, 15, 19, 1, 732013, tzinfo=datetime.timezone.utc), '_stop': datetime.datetime(2024, 12, 13, 15, 29, 1, 732013, tzinfo=datetime.timezone.utc), '_value': 2.0, '_field': 'field1', '_measurement': 'measurement1', 'tagname1': 'tagvalue1'}\n"
     ]
    }
   ],
   "source": [
    "query_api = write_client.query_api()\n",
    "\n",
    "query = \"\"\"from(bucket: \"test_bucket\")\n",
    "    |> range(start: -10m)\n",
    "    |> filter(fn: (r) => r._measurement == \"measurement1\")\n",
    "    |> mean()\"\"\"\n",
    "tables = query_api.query(query, org=\"None\")\n",
    "\n",
    "for table in tables:\n",
    "    for record in table.records:\n",
    "        print(record)"
   ]
  },
  {
   "cell_type": "code",
   "execution_count": 13,
   "id": "ccc49dee",
   "metadata": {},
   "outputs": [
    {
     "data": {
      "text/plain": [
       "[<FluxTable: 8 columns, 1 records>]"
      ]
     },
     "execution_count": 13,
     "metadata": {},
     "output_type": "execute_result"
    }
   ],
   "source": [
    "tables"
   ]
  },
  {
   "cell_type": "code",
   "execution_count": null,
   "id": "a525a571",
   "metadata": {},
   "outputs": [],
   "source": []
  }
 ],
 "metadata": {
  "kernelspec": {
   "display_name": ".venv",
   "language": "python",
   "name": "python3"
  },
  "language_info": {
   "codemirror_mode": {
    "name": "ipython",
    "version": 3
   },
   "file_extension": ".py",
   "mimetype": "text/x-python",
   "name": "python",
   "nbconvert_exporter": "python",
   "pygments_lexer": "ipython3",
   "version": "3.13.1"
  }
 },
 "nbformat": 4,
 "nbformat_minor": 5
}
